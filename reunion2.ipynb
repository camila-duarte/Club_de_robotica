{
 "cells": [
  {
   "attachments": {},
   "cell_type": "markdown",
   "metadata": {},
   "source": [
    "# `Condicionales`\n",
    "\n",
    "* if: si (pasa esto)\n",
    "\n",
    "* else: si no (pasa esto)\n",
    "\n",
    "* elif: si no (pasa esto), (pero si) si (pasa esto)\n",
    "\n",
    "* while: mientras (pase esto)\n",
    "\n",
    "## Operadores\n",
    "\n",
    "* igual que: ==\n",
    "\n",
    "* mayor que: >\n",
    "\n",
    "* menor que: <\n",
    "\n",
    "* mayor o igual que: >=\n",
    "\n",
    "* menor o igual que: <=\n",
    "\n",
    "* y: and\n",
    "\n",
    "* o : or\n",
    "\n",
    "* entre dos valores: 10 < valor < 20 (si el )\n",
    "\n",
    "\n",
    "## Sintaxis\n",
    "\n",
    "> if *condicion* :\n",
    "\n",
    ">> print(\"Hola\")\n",
    "\n",
    "> elif *condicion* :\n",
    "\n",
    ">> print(\"Hola\")\n",
    "\n",
    "> else :\n",
    "\n",
    ">> print(\"Hola\")\n",
    "\n",
    "\n",
    "## Imprimir una variable y texto \n",
    "\n",
    "print(f\"Texto {aca se ingresa la variable} y aca se puede serguir {y aca ingresar otra variable}\")\n"
   ]
  },
  {
   "cell_type": "code",
   "execution_count": 1,
   "metadata": {},
   "outputs": [
    {
     "name": "stdout",
     "output_type": "stream",
     "text": [
      "Los nombres son diferentes\n"
     ]
    }
   ],
   "source": [
    "nombre_1 = \"Bailey\"  #input(\"ingrese un nombre: \")\n",
    "nombre_2 = \"Coco\"\n",
    "nombre_3 = \"Hola\"\n",
    "\n",
    "if nombre_1 == nombre_2:\n",
    "    print(\"Los nombre son iguales\")\n",
    "elif nombre_1 == nombre_3:\n",
    "    print(\"Los nombre son iguales\")\n",
    "else:\n",
    "    print(\"Los nombres son diferentes\")"
   ]
  },
  {
   "attachments": {},
   "cell_type": "markdown",
   "metadata": {},
   "source": [
    "Escribir un programa en el que se pregunte al usuario por una temperatura (en grados Celsius), imprima la temperatura escrita, y luego clasificar la temperatura ingresada en los siguientes niveles:\n",
    "\n",
    "Entre -10 y 18 grados, que imprima \"Fresquete\". Entre 19 y 30 grados, que imprima \"Calor'i\". Entre 31 y 45 grados, que imprima \"Hakuuuuuu\". Para todo lo demás, imprimir \"Ñamano mba'e!\"."
   ]
  },
  {
   "cell_type": "code",
   "execution_count": null,
   "metadata": {},
   "outputs": [],
   "source": []
  },
  {
   "attachments": {},
   "cell_type": "markdown",
   "metadata": {},
   "source": [
    "Escribir un programa en donde el usuario ingrese una contrasenha y tenga 3 intentos, si realiza mas de tres intentos, decir: intente de nuevo mas tarde, en cada contrasenha incorrecta decir que es incorrecta y en caso de que sea correcta imprimir que es correcta \n",
    "\n",
    "\n"
   ]
  }
 ],
 "metadata": {
  "kernelspec": {
   "display_name": "Python 3",
   "language": "python",
   "name": "python3"
  },
  "language_info": {
   "codemirror_mode": {
    "name": "ipython",
    "version": 3
   },
   "file_extension": ".py",
   "mimetype": "text/x-python",
   "name": "python",
   "nbconvert_exporter": "python",
   "pygments_lexer": "ipython3",
   "version": "3.10.6"
  },
  "orig_nbformat": 4
 },
 "nbformat": 4,
 "nbformat_minor": 2
}
