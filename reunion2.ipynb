{
 "cells": [
  {
   "attachments": {},
   "cell_type": "markdown",
   "metadata": {},
   "source": [
    "# `Condicionales`\n",
    "\n",
    "* if: si (pasa esto)\n",
    "\n",
    "* else: si no (pasa esto)\n",
    "\n",
    "* elif: si no (pasa esto), (pero si) si (pasa esto)\n",
    "\n",
    "* while: mientras (pase esto)\n",
    "\n",
    "## Operadores\n",
    "\n",
    "* igual que: ==\n",
    "\n",
    "* mayor que: >\n",
    "\n",
    "* menor que: <\n",
    "\n",
    "* mayor o igual que: >=\n",
    "\n",
    "* menor o igual que: <=\n",
    "\n",
    "\n",
    "## Sintaxis\n",
    "\n",
    "> if *condicion* :\n",
    "\n",
    ">> print(\"Hola\")\n",
    "\n",
    "> elif *condicion* :\n",
    "\n",
    ">> print(\"Hola\")\n",
    "\n",
    "> else :\n",
    "\n",
    ">> print(\"Hola\")\n"
   ]
  },
  {
   "cell_type": "code",
   "execution_count": 1,
   "metadata": {},
   "outputs": [
    {
     "name": "stdout",
     "output_type": "stream",
     "text": [
      "Los nombre son iguales\n"
     ]
    }
   ],
   "source": [
    "nombre_1 = \"Bailey\"  #input(\"ingrese un nombre: \")\n",
    "nombre_2 = \"Coco\"\n",
    "nombre_3 = \"Bailey\"\n",
    "\n",
    "if nombre_1 == nombre_2:\n",
    "    print(\"Los nombre son iguales\")\n",
    "elif nombre_1 == nombre_3:\n",
    "    print(\"Los nombre son iguales\")\n",
    "else:\n",
    "    print(\"Los nombres son diferentes\")"
   ]
  }
 ],
 "metadata": {
  "kernelspec": {
   "display_name": "Python 3",
   "language": "python",
   "name": "python3"
  },
  "language_info": {
   "codemirror_mode": {
    "name": "ipython",
    "version": 3
   },
   "file_extension": ".py",
   "mimetype": "text/x-python",
   "name": "python",
   "nbconvert_exporter": "python",
   "pygments_lexer": "ipython3",
   "version": "3.10.6"
  },
  "orig_nbformat": 4
 },
 "nbformat": 4,
 "nbformat_minor": 2
}
