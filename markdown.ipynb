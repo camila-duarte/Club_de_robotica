{
 "cells": [
  {
   "attachments": {},
   "cell_type": "markdown",
   "metadata": {},
   "source": [
    "`Bailey`\n",
    "\n",
    "*Bailey*\n",
    "\n",
    "**Bailey**\n",
    "\n",
    "__Bailey__\n",
    "```\n",
    "Bailey\n",
    "```\n",
    "> Bailey\n",
    ">>>Bailey\n",
    "1. Bailey\n",
    "   * Bailey\n",
    "* Bailey\n",
    "\n",
    "[Google](https://www.google.com/search?gs_ssp=eJzj4tTP1TcwMU02T1JgNGB0YPBiS8_PT89JBQBASQXT&q=google&oq=goo&aqs=chrome.1.69i59j46i199i465i512j69i64j69i57j0i20i263i512j69i60l3.1276j0j7&sourceid=chrome&ie=UTF-8)\n",
    "\n",
    "![PInguino](https://img.freepik.com/foto-gratis/lindo-perrito-haciendose-pasar-persona-negocios_23-2148985938.jpg)\n",
    "\n",
    "$ \\frac{a}{b}$\n"
   ]
  }
 ],
 "metadata": {
  "language_info": {
   "name": "python"
  },
  "orig_nbformat": 4
 },
 "nbformat": 4,
 "nbformat_minor": 2
}
