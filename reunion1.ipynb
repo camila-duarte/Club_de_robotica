{
 "cells": [
  {
   "attachments": {},
   "cell_type": "markdown",
   "metadata": {},
   "source": [
    "# Variable\n",
    "Se puede entender como una caja vacia en donde guardas algo (le asignas un valor)\n",
    "\n",
    "# Tipo de Variables\n",
    "* int = numeros enteros\n",
    "* float = numeros decimales\n",
    "* str = letras\n",
    "* bool = True/False\n",
    "\n",
    "# Aritmetica\n",
    "* division: / \n",
    "* multiplicacion: *\n",
    "* potencia: **\n",
    "* suma: + \n",
    "* resta: -\n",
    "\n",
    "\n",
    "\n",
    "# Buenas practicas\n",
    "* snake_case: implica usar el guion bajo (_) para separar palabras al nombrar una variable\n",
    "* Comentar el codigo, explicar que hace cada funcion\n"
   ]
  },
  {
   "cell_type": "code",
   "execution_count": null,
   "metadata": {},
   "outputs": [],
   "source": [
    "numero_entero1 = 5\n",
    "numero_entero2 = 2\n",
    "resultado_division = numero_entero1/numero_entero2 # Esta division dara como resultado 2.5, un numero con decimales (float)\n",
    "print(resultado_division)\n",
    "# En caso de que quiera utilizar solo el numero entero, puedo convertir el resultado a un entero\n",
    "resultado_division_entero = int(resultado_division)\n",
    "print(resultado_division_entero)\n",
    "\n",
    "#Podemos usar eso por ejemplo para la hora\n",
    "# Una persona x le pregunta cuanto dura un curso a una persona z, la cual le responde que 2.5 h\n",
    "# la persona x le pregunta cual seria els equivalente a horas Y minutos\n",
    "\n",
    "# Sabemos que 2 es la cantidad de horas y 0.5 la cantidad de minutos, entonces:\n",
    "duracion_curso = 2.5\n",
    "\n",
    "cantidad_de_horas = int(duracion_curso) # aca tenemos la parte entera (las horas) \n",
    "\n",
    "# sabemos que 1 h tiene 60 minutos, y que nuestro curso tiene 0.5 de hora, entonces debemos multiplicar 0.5 por 60 para saber a cuantos minutos \n",
    "# equivale 0.5, pero tambien tenemos que llegar al 0.5\n",
    "# Como ya tenemos el numero total de duracion y tambien las horas totales de duracion, al realizar la resta solo nos quedan los minutos\n",
    "fraccion_minutos = duracion_curso - cantidad_de_horas\n",
    "cantidad_de_minutos = 60*fraccion_minutos # Esto nos dara como resultado que 0.5 equivale a 30 minutos\n",
    "\n",
    "# Para usar variables y texto en un mismo print, se utiliza la sintaxis print(f\"El resultado es {variable}\"\"), (hay otras formas)\n",
    "print(f\"La duracion del curso es de {cantidad_de_horas} horas y {cantidad_de_minutos} minutos\")\n"
   ]
  }
 ],
 "metadata": {
  "kernelspec": {
   "display_name": "Python 3",
   "language": "python",
   "name": "python3"
  },
  "language_info": {
   "codemirror_mode": {
    "name": "ipython",
    "version": 3
   },
   "file_extension": ".py",
   "mimetype": "text/x-python",
   "name": "python",
   "nbconvert_exporter": "python",
   "pygments_lexer": "ipython3",
   "version": "3.10.6"
  },
  "orig_nbformat": 4
 },
 "nbformat": 4,
 "nbformat_minor": 2
}
